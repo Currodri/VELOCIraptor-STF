{
 "cells": [
  {
   "cell_type": "markdown",
   "metadata": {},
   "source": [
    "# Examples of using velociraptor data"
   ]
  },
  {
   "cell_type": "code",
   "execution_count": null,
   "metadata": {
    "collapsed": true
   },
   "outputs": [],
   "source": [
    "#load matplotlib as inline so figures display within the notebook\n",
    "%matplotlib inline\n",
    "from matplotlib.pylab import *\n",
    "rcParams['figure.figsize'] = (10,6)\n",
    "rcParams['font.size'] = 18"
   ]
  },
  {
   "cell_type": "code",
   "execution_count": null,
   "metadata": {
    "collapsed": true
   },
   "outputs": [],
   "source": [
    "#load other useful packages\n",
    "import numpy as np\n",
    "import astropy as ap\n",
    "import pynbody as pyn\n",
    "#for general python stuff\n",
    "import sys,os,string,time,re,struct\n",
    "import math,operator\n",
    "#for useful scipy stuff\n",
    "from scipy.stats.mstats import mquantiles\n",
    "from scipy.misc import comb\n",
    "import scipy.interpolate as scipyinterp\n",
    "import scipy.integrate as scipyint\n",
    "import scipy.optimize as scipyopt\n",
    "import scipy.special as scipysp\n",
    "import itertools\n",
    "#for useful mathematical tools\n",
    "from sklearn.neighbors import NearestNeighbors\n",
    "import scipy.spatial as spatial\n",
    "#for multiprocessing\n",
    "import multiprocessing as mp\n",
    "#for stats\n",
    "import emcee\n",
    "#for plotting distributions\n",
    "import corner\n",
    "\n",
    "#to load specific functions defined in another python file\n",
    "sys.path.append('./dir/to/VELOCIraptor-stf/stf/tools/')\n",
    "import velociraptor_python_tools as vpt"
   ]
  },
  {
   "cell_type": "markdown",
   "metadata": {},
   "source": [
    "## Loading Halos"
   ]
  },
  {
   "cell_type": "code",
   "execution_count": null,
   "metadata": {
    "collapsed": true
   },
   "outputs": [],
   "source": [
    "#define formats\n",
    "ASCIIFORMAT=0\n",
    "HDFFORMAT=2\n",
    "\n",
    "#base filename \n",
    "inputfname=\"/outdir/snapshot_200.VELOCIraptor\""
   ]
  },
  {
   "cell_type": "code",
   "execution_count": null,
   "metadata": {
    "collapsed": true
   },
   "outputs": [],
   "source": [
    "#now we try loading halo property data\n",
    "halopropdata,numhalos=ReadPropertyFile(inputfname,HDFFORMAT)"
   ]
  },
  {
   "cell_type": "code",
   "execution_count": null,
   "metadata": {
    "collapsed": true
   },
   "outputs": [],
   "source": [
    "#then load the particles associated with halos\n",
    "haloparticledata=ReadParticleDataFile(inputfname,HDFFORMAT)"
   ]
  },
  {
   "cell_type": "code",
   "execution_count": null,
   "metadata": {
    "collapsed": true
   },
   "outputs": [],
   "source": [
    "#list the keys available\n",
    "halopropdata.keys()\n",
    "haloparticledata.keys()"
   ]
  },
  {
   "cell_type": "markdown",
   "metadata": {},
   "source": [
    "## Plotting halo mass function"
   ]
  },
  {
   "cell_type": "code",
   "execution_count": null,
   "metadata": {
    "collapsed": true
   },
   "outputs": [],
   "source": [
    "#Set bin edges (log M)\n",
    "NBINS=50\n",
    "xlim=[5,15]\n",
    "xedges=np.arange(xlim[0],xlim[1]+(xlim[1]-xlim[0])/float(NBINS),(xlim[1]-xlim[0])/float(NBINS))\n",
    "\n",
    "#desired mass field\n",
    "massfield=['Mass_200crit','Mass_tot', 'Mass_200mean']\n",
    "massbindata=dict()\n",
    "#make histograms while converting units to Msun and kpc\n",
    "for key in massfield:\n",
    "    massbindata[key],blah=np.histogram(np.log10(halopropdata[\"Mass_200crit\"]),xedges)\n",
    "    massbindata[key]=massbindata[key]+np.log10(halopropdata['Mass_to_Msun'])\n",
    "    massbindata[key]=np.float64(massbindata[key])/np.power(halopropdata['BoxSize']/halopropdata['hval'],3.0)\n",
    "#store mass value at which a halo is composed of 100 particles\n",
    "vlinedata=halopropdata[\"Mass_tot\"][np.where(halopropdata[\"npart\"]==100)][0]"
   ]
  },
  {
   "cell_type": "code",
   "execution_count": null,
   "metadata": {
    "collapsed": true
   },
   "outputs": [],
   "source": [
    "colors=['red','blue','green']\n",
    "vlabels=[r'$M_{200\\rho_c}$',r'$M_{\\textsc{tot}}$',r'$M_{200\\rho_m}$']\n",
    "for i in range(len(massfield)):\n",
    "    plot(xbins,massbindata[massfield[i]],color=colors[i],label=vlabels[i])\n",
    "ylabel(r'$dn/d\\log M$ (kpc$^{-3}$)')\n",
    "xlabel(r'$M$ [M$_\\odot$]')\n",
    "legend()"
   ]
  }
 ],
 "metadata": {
  "kernelspec": {
   "display_name": "IPython (Python 3)",
   "language": "python",
   "name": "python3"
  },
  "language_info": {
   "codemirror_mode": {
    "name": "ipython",
    "version": 3
   },
   "file_extension": ".py",
   "mimetype": "text/x-python",
   "name": "python",
   "nbconvert_exporter": "python",
   "pygments_lexer": "ipython3",
   "version": "3.4.3"
  }
 },
 "nbformat": 4,
 "nbformat_minor": 0
}
